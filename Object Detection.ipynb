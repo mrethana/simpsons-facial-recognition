{
 "cells": [
  {
   "cell_type": "code",
   "execution_count": 1,
   "metadata": {},
   "outputs": [
    {
     "name": "stderr",
     "output_type": "stream",
     "text": [
      "/anaconda3/lib/python3.6/site-packages/h5py/__init__.py:36: FutureWarning: Conversion of the second argument of issubdtype from `float` to `np.floating` is deprecated. In future, it will be treated as `np.float64 == np.dtype(float).type`.\n",
      "  from ._conv import register_converters as _register_converters\n",
      "Using TensorFlow backend.\n"
     ]
    }
   ],
   "source": [
    "import os, shutil\n",
    "import re\n",
    "from keras.preprocessing.image import ImageDataGenerator, array_to_img, img_to_array, load_img\n",
    "import matplotlib.pyplot as plt\n",
    "import time\n",
    "import matplotlib.pyplot as plt\n",
    "import scipy\n",
    "import numpy as np\n",
    "from PIL import Image\n",
    "from scipy import ndimage"
   ]
  },
  {
   "cell_type": "code",
   "execution_count": 2,
   "metadata": {},
   "outputs": [],
   "source": [
    "data_bart_dir = 'data/bart/'\n",
    "data_marge_dir = 'data/marge/'\n",
    "data_homer_dir = 'data/homer/'\n",
    "data_lisa_dir = 'data/lisa/'\n",
    "data_ned_dir = 'data/ned/'\n",
    "data_moe_dir = 'data/moe/'\n",
    "data_krusty_dir = 'data/krusty/'\n",
    "data_skinner_dir = 'data/skinner/'\n",
    "data_charles_dir = 'data/charles/'\n",
    "data_milhouse_dir = 'data/milhouse/'\n",
    "data_other_dir = 'data/other/'\n",
    "new_dir = 'split/'"
   ]
  },
  {
   "cell_type": "code",
   "execution_count": 3,
   "metadata": {},
   "outputs": [],
   "source": [
    "train_folder = os.path.join(new_dir, 'train')\n",
    "train_bart = os.path.join(train_folder, 'bart')\n",
    "train_homer = os.path.join(train_folder, 'homer')\n",
    "train_marge = os.path.join(train_folder, 'marge')\n",
    "train_lisa = os.path.join(train_folder, 'lisa')\n",
    "train_moe = os.path.join(train_folder, 'moe')\n",
    "train_ned = os.path.join(train_folder, 'ned')\n",
    "train_krusty = os.path.join(train_folder, 'krusty')\n",
    "train_skinner = os.path.join(train_folder, 'skinner')\n",
    "train_charles = os.path.join(train_folder, 'charles')\n",
    "train_milhouse = os.path.join(train_folder, 'milhouse')\n",
    "train_other = os.path.join(train_folder, 'other')\n",
    "\n",
    "test_folder = os.path.join(new_dir, 'test')\n",
    "test_bart = os.path.join(test_folder, 'bart')\n",
    "test_homer = os.path.join(test_folder, 'homer')\n",
    "test_marge = os.path.join(test_folder, 'marge')\n",
    "test_lisa = os.path.join(test_folder, 'lisa')\n",
    "test_moe = os.path.join(test_folder, 'moe')\n",
    "test_ned = os.path.join(test_folder, 'ned')\n",
    "test_krusty = os.path.join(test_folder, 'krusty')\n",
    "test_skinner = os.path.join(test_folder, 'skinner')\n",
    "test_charles = os.path.join(test_folder, 'charles')\n",
    "test_milhouse = os.path.join(test_folder, 'milhouse')\n",
    "test_other = os.path.join(test_folder, 'other')\n",
    "\n",
    "val_folder = os.path.join(new_dir, 'val')\n",
    "val_bart = os.path.join(val_folder, 'bart')\n",
    "val_homer = os.path.join(val_folder, 'homer')\n",
    "val_marge = os.path.join(val_folder, 'marge')\n",
    "val_lisa = os.path.join(val_folder, 'lisa')\n",
    "val_moe = os.path.join(val_folder, 'moe')\n",
    "val_ned = os.path.join(val_folder, 'ned')\n",
    "val_krusty = os.path.join(val_folder, 'krusty')\n",
    "val_skinner = os.path.join(val_folder, 'skinner')\n",
    "val_charles = os.path.join(val_folder, 'charles')\n",
    "val_milhouse = os.path.join(val_folder, 'milhouse')\n",
    "val_other = os.path.join(val_folder, 'other')\n"
   ]
  },
  {
   "cell_type": "code",
   "execution_count": 5,
   "metadata": {},
   "outputs": [
    {
     "name": "stderr",
     "output_type": "stream",
     "text": [
      "usage: ipykernel_launcher.py [-h] -i IMAGE -c CONFIG -w WEIGHTS -cl CLASSES\n",
      "ipykernel_launcher.py: error: the following arguments are required: -i/--image, -c/--config, -w/--weights, -cl/--classes\n"
     ]
    },
    {
     "ename": "SystemExit",
     "evalue": "2",
     "output_type": "error",
     "traceback": [
      "An exception has occurred, use %tb to see the full traceback.\n",
      "\u001b[0;31mSystemExit\u001b[0m\u001b[0;31m:\u001b[0m 2\n"
     ]
    },
    {
     "name": "stderr",
     "output_type": "stream",
     "text": [
      "/anaconda3/lib/python3.6/site-packages/IPython/core/interactiveshell.py:2971: UserWarning: To exit: use 'exit', 'quit', or Ctrl-D.\n",
      "  warn(\"To exit: use 'exit', 'quit', or Ctrl-D.\", stacklevel=1)\n"
     ]
    }
   ],
   "source": [
    "import cv2\n",
    "import argparse\n",
    "import numpy as np\n",
    "\n",
    "# handle command line arguments\n",
    "ap = argparse.ArgumentParser()\n",
    "ap.add_argument('-i', '--image', required=True,\n",
    "                help = 'path to input image')\n",
    "ap.add_argument('-c', '--config', required=True,\n",
    "                help = 'path to yolo config file')\n",
    "ap.add_argument('-w', '--weights', required=True,\n",
    "                help = 'path to yolo pre-trained weights')\n",
    "ap.add_argument('-cl', '--classes', required=True,\n",
    "                help = 'path to text file containing class names')\n",
    "args = ap.parse_args()"
   ]
  },
  {
   "cell_type": "code",
   "execution_count": null,
   "metadata": {},
   "outputs": [],
   "source": []
  }
 ],
 "metadata": {
  "kernelspec": {
   "display_name": "Python 3",
   "language": "python",
   "name": "python3"
  },
  "language_info": {
   "codemirror_mode": {
    "name": "ipython",
    "version": 3
   },
   "file_extension": ".py",
   "mimetype": "text/x-python",
   "name": "python",
   "nbconvert_exporter": "python",
   "pygments_lexer": "ipython3",
   "version": "3.6.5"
  }
 },
 "nbformat": 4,
 "nbformat_minor": 2
}
