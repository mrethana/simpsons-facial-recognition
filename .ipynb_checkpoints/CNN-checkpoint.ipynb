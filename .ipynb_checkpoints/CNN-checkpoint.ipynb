{
 "cells": [
  {
   "cell_type": "code",
   "execution_count": 55,
   "metadata": {},
   "outputs": [],
   "source": [
    "import os, shutil\n",
    "import re\n",
    "from keras.preprocessing.image import ImageDataGenerator, array_to_img, img_to_array, load_img\n",
    "import matplotlib.pyplot as plt"
   ]
  },
  {
   "cell_type": "code",
   "execution_count": 2,
   "metadata": {},
   "outputs": [],
   "source": [
    "data_bart_dir = 'data/bart/'\n",
    "data_marge_dir = 'data/marge/'\n",
    "data_homer_dir = 'data/homer/'\n",
    "data_lisa_dir = 'data/lisa/'\n",
    "data_ned_dir = 'data/ned/'\n",
    "data_moe_dir = 'data/moe/'\n",
    "data_krusty_dir = 'data/krusty/'\n",
    "data_skinner_dir = 'data/skinner/'\n",
    "data_charles_dir = 'data/charles/'\n",
    "data_milhouse_dir = 'data/milhouse/'\n",
    "data_other_dir = 'data/other/'\n",
    "new_dir = 'split/'"
   ]
  },
  {
   "cell_type": "code",
   "execution_count": 16,
   "metadata": {},
   "outputs": [],
   "source": [
    "x = [file.replace('.jpg','') for file in os.listdir('simpson_test_set/')]\n",
    "list_names = set([re.sub('[0-9]+', '', file) for file in x])\n",
    "list_names = list(list_names)\n"
   ]
  },
  {
   "cell_type": "code",
   "execution_count": 19,
   "metadata": {},
   "outputs": [],
   "source": [
    "test_imgs_bart = [file for file in os.listdir('simpson_test_set/') if file.startswith('bart_simpson')]\n",
    "test_imgs_homer = [file for file in os.listdir('simpson_test_set/') if file.startswith('homer_simpson')]\n",
    "test_imgs_marge = [file for file in os.listdir('simpson_test_set/') if file.startswith('marge_simpson')]\n",
    "test_imgs_lisa = [file for file in os.listdir('simpson_test_set/') if file.startswith('lisa_simpson')]\n",
    "test_imgs_moe = [file for file in os.listdir('simpson_test_set/') if file.startswith('moe_szyslak')]\n",
    "test_imgs_ned = [file for file in os.listdir('simpson_test_set/') if file.startswith('ned_flanders')]\n",
    "test_imgs_krusty = [file for file in os.listdir('simpson_test_set/') if file.startswith('krusty_the_clown')]\n",
    "test_imgs_skinner = [file for file in os.listdir('simpson_test_set/') if file.startswith('principal_skinner')]\n",
    "test_imgs_charles = [file for file in os.listdir('simpson_test_set/') if file.startswith('charles_montgomery_burns')]\n",
    "test_imgs_milhouse = [file for file in os.listdir('simpson_test_set/') if file.startswith('milhouse_van_houten')]"
   ]
  },
  {
   "cell_type": "code",
   "execution_count": 42,
   "metadata": {},
   "outputs": [],
   "source": [
    "character_test =[test_imgs_bart, test_imgs_homer, test_imgs_marge, test_imgs_lisa ,test_imgs_moe,test_imgs_ned,test_imgs_krusty,test_imgs_skinner,test_imgs_charles,test_imgs_milhouse]\n",
    "all_characters_test = []\n",
    "for character in character_test:\n",
    "    all_characters_test.extend(character)"
   ]
  },
  {
   "cell_type": "code",
   "execution_count": 43,
   "metadata": {},
   "outputs": [],
   "source": [
    "test_imgs_other = [file for file in os.listdir('simpson_test_set/') if file not in all_characters_test]"
   ]
  },
  {
   "cell_type": "code",
   "execution_count": 40,
   "metadata": {},
   "outputs": [],
   "source": [
    "train_imgs_bart = [file for file in os.listdir('simpsons_training_set/bart_simpson/')]\n",
    "train_imgs_homer = [file for file in os.listdir('simpsons_training_set/homer_simpson/')]\n",
    "train_imgs_marge = [file for file in os.listdir('simpsons_training_set/marge_simpson/')]\n",
    "train_imgs_lisa = [file for file in os.listdir('simpsons_training_set/lisa_simpson/')]\n",
    "train_imgs_moe = [file for file in os.listdir('simpsons_training_set/moe_szyslak/')]\n",
    "train_imgs_ned = [file for file in os.listdir('simpsons_training_set/ned_flanders/')]\n",
    "train_imgs_krusty = [file for file in os.listdir('simpsons_training_set/krusty_the_clown/')]\n",
    "train_imgs_skinner = [file for file in os.listdir('simpsons_training_set/principal_skinner/')]\n",
    "train_imgs_charles = [file for file in os.listdir('simpsons_training_set/charles_montgomery_burns//')]\n",
    "train_imgs_milhouse = [file for file in os.listdir('simpsons_training_set/milhouse_van_houten//')]\n"
   ]
  },
  {
   "cell_type": "code",
   "execution_count": 52,
   "metadata": {},
   "outputs": [],
   "source": [
    "character_train = ['charles_montgomery_burns','milhouse_van_houten','moe_szyslak','ned_flanders','krusty_the_clown','marge_simpson','principal_skinner','bart_simpson','lisa_simpson', 'homer_simpson','.DS_Store']\n",
    "train_images_other = []\n",
    "for folder in os.listdir('simpsons_training_set/'):\n",
    "    if folder not in character_train:\n",
    "        for file in os.listdir('simpsons_training_set/'+folder):\n",
    "            train_images_other.append(file)"
   ]
  },
  {
   "cell_type": "code",
   "execution_count": null,
   "metadata": {},
   "outputs": [],
   "source": []
  }
 ],
 "metadata": {
  "kernelspec": {
   "display_name": "Python 3",
   "language": "python",
   "name": "python3"
  },
  "language_info": {
   "codemirror_mode": {
    "name": "ipython",
    "version": 3
   },
   "file_extension": ".py",
   "mimetype": "text/x-python",
   "name": "python",
   "nbconvert_exporter": "python",
   "pygments_lexer": "ipython3",
   "version": "3.6.5"
  }
 },
 "nbformat": 4,
 "nbformat_minor": 2
}
